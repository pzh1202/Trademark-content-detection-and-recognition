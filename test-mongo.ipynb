{
 "cells": [
  {
   "cell_type": "code",
   "execution_count": 4,
   "id": "5c954323",
   "metadata": {},
   "outputs": [],
   "source": [
    "# 读取task集合  Id packFormat packUrl productName categoryCode categoryName isFinished\n",
    "# 判断packFormat是否为pdf\n",
    "# 记住Id，下载文档到dir_input\n",
    "# 分割到dir_segmentation\n",
    "# 识别结果为字典，框框图片保存到dir_recognition\n",
    "# 识别结果格式重组+sPicture\n",
    "\n",
    "# 识别结果加入到result集合\n",
    "# task集合 isFinished更新\n",
    "\n",
    "# Id数据类型为double？\n",
    "# log "
   ]
  },
  {
   "cell_type": "code",
   "execution_count": 1,
   "id": "175c38a5",
   "metadata": {},
   "outputs": [
    {
     "name": "stdout",
     "output_type": "stream",
     "text": [
      "['admin', 'config', 'local', 'test']\n",
      "Database(MongoClient(host=['localhost:27017'], document_class=dict, tz_aware=False, connect=True), 'test')\n"
     ]
    }
   ],
   "source": [
    "import os\n",
    "import sys\n",
    "import pathlib\n",
    "import glob\n",
    "import torch\n",
    "import numpy\n",
    "from natsort import natsorted\n",
    "from PdfMake import PDFMake#\n",
    "from predict import recog_label\n",
    "from tqdm import tqdm\n",
    "import pymongo\n",
    "import requests\n",
    "import copy\n",
    "import datetime\n",
    "\n",
    "# 连接\n",
    "database_name = 'test'\n",
    "def connect_to_db(host, database_name):\n",
    "    client = pymongo.MongoClient(host=host)\n",
    "    print(client.list_database_names())\n",
    "    db = client[database_name]\n",
    "    print(db)\n",
    "    return client, db\n",
    "\n",
    "client,db = connect_to_db('localhost', 'test')"
   ]
  },
  {
   "cell_type": "code",
   "execution_count": 2,
   "id": "92cd9d90",
   "metadata": {},
   "outputs": [],
   "source": [
    "def get_file_list(folder_path: str, p_postfix: list = None, sub: bool = True) -> list:\n",
    "    assert os.path.exists(folder_path) and os.path.isdir(folder_path)\n",
    "    if p_postfix is None:\n",
    "        p_postfix = ['.pdf']\n",
    "    if isinstance(p_postfix, str):\n",
    "        p_postfix = [p_postfix]\n",
    "    file_list = [x for x in glob.glob(folder_path + '/**/*.*', recursive=True) if\n",
    "                 os.path.splitext(x)[-1] in p_postfix or '.*' in p_postfix]\n",
    "    return natsorted(file_list)\n",
    "\n",
    "def download_from_url(url,name):\n",
    "    print(\"downloading with requests\")\n",
    "    #url = 'http://gateway.ntdjk.com/blade-resource/oss/endpoint/file-view-link?attachId=1420763982380843009'\n",
    "    r = requests.get(url)\n",
    "    #print(r)\n",
    "    with open(name+\".pdf\", \"wb\") as code:\n",
    "        code.write(r.content)\n",
    "        print('finished')\n",
    "        \n",
    "## 下载\n",
    "def download_from_task(task, saved_dir):\n",
    "    download_url = task['packUrl']\n",
    "    # saved_dir = dir_input\n",
    "    pdf_name = str(task['Id']) + task['productName']\n",
    "    # 创建专属目录 dir_input/pdf_name/\n",
    "    special_dir = saved_dir + pdf_name + '/'\n",
    "    if not os.path.exists(special_dir):\n",
    "        os.makedirs(special_dir)\n",
    "    \n",
    "    print(special_dir)\n",
    "    print(pdf_name)\n",
    "\n",
    "    download_from_url(download_url, special_dir+pdf_name)\n",
    "    return special_dir\n",
    "\n",
    "## 分割\n",
    "def segmentation_pdf(input_dir, output_dir):\n",
    "    for pdf in tqdm(get_file_list(input_dir, p_postfix=['.pdf'])):\n",
    "        file_name = os.path.basename(pdf).split('.')[0]\n",
    "        print(file_name)\n",
    "        if not os.path.exists(output_dir+file_name):\n",
    "            os.makedirs(output_dir+file_name)\n",
    "        master = PDFMake(outputdirectory=output_dir+file_name)\n",
    "        master.spilt_pdf(pdf, 1, name = file_name)\n",
    "        print('segmentation file name:',file_name)\n",
    "    return output_dir+file_name\n",
    "        \n",
    "        \n",
    "## 识别\n",
    "dict_result = {'商标': 'True', '经销企业': 'True', '不适宜人群': 'True', '许可证编号': 'True', '执行标准': 'True', '条形码': 'True',\n",
    "                   '保健品商标': 'True', '成分': 'True', '功效': 'True', 'r标': 'True'}\n",
    "def recognition_img(input_dir, output_dir):\n",
    "    for img in tqdm(get_file_list(input_dir, p_postfix=['.jpg'])):\n",
    "        file_name = os.path.basename(img).split('.')[0]\n",
    "        print(file_name)\n",
    "        if not os.path.exists(output_dir+file_name):\n",
    "            os.makedirs(output_dir+file_name)\n",
    "        final_result = recog_label(img, output_dir+file_name, dict_result, file_name)\n",
    "        return final_result\n",
    "        #final_results.append(final_result)\n",
    "        #print(file_name)\n",
    "        \n",
    "# 重组字典，写入result\n",
    "def insert_result(final_result, task, to_collection):\n",
    "    final_one = {}\n",
    "    for index in final_result:\n",
    "        if index == 'name':\n",
    "            pass\n",
    "        else:\n",
    "            final_one['taskId'] = task['Id']\n",
    "            final_one['auditName'] = index\n",
    "            final_one['scanFount'] = final_result[index][0]\n",
    "            final_one['scanContent'] = final_result[index][1]\n",
    "            print(final_one)\n",
    "            #=========================\n",
    "            temp = copy.deepcopy(final_one)\n",
    "            result = to_collection.insert_one(temp)\n",
    "            \n",
    "            \n",
    "# 更新状态\n",
    "def task_is_finished(Id, collection='tasks', state = True):\n",
    "    old_value_id = {\"Id\": Id}\n",
    "    new_value = {\"$set\": {\"isFinished\": state}}\n",
    "    db[collection].update_one(old_value_id, new_value)"
   ]
  },
  {
   "cell_type": "code",
   "execution_count": 6,
   "id": "12ef19f6",
   "metadata": {},
   "outputs": [
    {
     "name": "stdout",
     "output_type": "stream",
     "text": [
      "processing: http://gateway.ntdjk.com/blade-resource/oss/endpoint/file-view-link?attachId=1420763982380843009\n",
      "./dir_input/111111yaowu1/\n",
      "111111yaowu1\n",
      "downloading with requests\n",
      "finished\n"
     ]
    },
    {
     "name": "stderr",
     "output_type": "stream",
     "text": [
      "\r",
      "  0%|          | 0/1 [00:00<?, ?it/s]"
     ]
    },
    {
     "name": "stdout",
     "output_type": "stream",
     "text": [
      "111111yaowu1\n"
     ]
    },
    {
     "name": "stderr",
     "output_type": "stream",
     "text": [
      "100%|██████████| 1/1 [00:02<00:00,  2.52s/it]\n"
     ]
    },
    {
     "name": "stdout",
     "output_type": "stream",
     "text": [
      "segmentation file name: 111111yaowu1\n"
     ]
    },
    {
     "name": "stderr",
     "output_type": "stream",
     "text": [
      "\r",
      "  0%|          | 0/1 [00:00<?, ?it/s]"
     ]
    },
    {
     "name": "stdout",
     "output_type": "stream",
     "text": [
      "111111yaowu11\n"
     ]
    },
    {
     "name": "stderr",
     "output_type": "stream",
     "text": [
      "\u001b[33m[2022-01-14 15:32:21,752] [ WARNING]\u001b[0m - The _initialize method in HubModule will soon be deprecated, you can use the __init__() to handle the initialization of the object\u001b[0m\n",
      "\u001b[33m[2022-01-14 15:32:23,789] [ WARNING]\u001b[0m - The _initialize method in HubModule will soon be deprecated, you can use the __init__() to handle the initialization of the object\u001b[0m\n",
      "  0%|          | 0/1 [00:56<?, ?it/s]"
     ]
    },
    {
     "name": "stdout",
     "output_type": "stream",
     "text": [
      "{'taskId': 111111, 'auditName': '商标', 'scanFount': 'True', 'scanContent': '国南京同仁堂'}\n",
      "{'taskId': 111111, 'auditName': '经销企业', 'scanFount': 'False', 'scanContent': 'False'}\n",
      "{'taskId': 111111, 'auditName': '不适宜人群', 'scanFount': 'False', 'scanContent': 'False'}\n",
      "{'taskId': 111111, 'auditName': '许可证编号', 'scanFount': 'False', 'scanContent': 'False'}\n",
      "{'taskId': 111111, 'auditName': '执行标准', 'scanFount': 'False', 'scanContent': 'False'}\n",
      "{'taskId': 111111, 'auditName': '条形码', 'scanFount': 'True', 'scanContent': '6970879610928'}\n",
      "{'taskId': 111111, 'auditName': '保健品商标', 'scanFount': 'True', 'scanContent': 'True'}\n",
      "{'taskId': 111111, 'auditName': '成分', 'scanFount': 'False', 'scanContent': 'False'}\n",
      "{'taskId': 111111, 'auditName': '功效', 'scanFount': 'True', 'scanContent': '唯护美白祛斑面膜'}\n",
      "{'taskId': 111111, 'auditName': 'r标', 'scanFount': 'True', 'scanContent': 'R标'}\n",
      "download time: 11\n",
      "recognition time: 59\n"
     ]
    },
    {
     "name": "stderr",
     "output_type": "stream",
     "text": [
      "\n"
     ]
    }
   ],
   "source": [
    "# 循环操作tasks\n",
    "dir_seg = './dir_segmentation/'\n",
    "dir_input = './dir_input/'\n",
    "dir_rec = './dir_recognition/'\n",
    "finish_flag = False\n",
    "# if 'task' do not have a packUrl?, not a pdf?\n",
    "def operation_id(task_collection_name, id_number):\n",
    "    tasks_collection = db[task_collection_name]\n",
    "    for task in tasks_collection.find({'Id':id_number}):\n",
    "        time1 = datetime.datetime.now()\n",
    "        download_url = task['packUrl']\n",
    "        print('processing:', download_url)\n",
    "        # download\n",
    "        special_dir = download_from_task(task, dir_input)\n",
    "        time2 = datetime.datetime.now()\n",
    "        # segmentation\n",
    "        special_dir = segmentation_pdf(special_dir, dir_seg)\n",
    "        # recognition\n",
    "        final_result = recognition_img(special_dir, dir_rec)\n",
    "        time3 = datetime.datetime.now()\n",
    "        # insert\n",
    "        insert_result(final_result, task, db.results)\n",
    "        # update\n",
    "        task_is_finished(task['Id'], collection='tasks', state = True)\n",
    "\n",
    "        print('download time:', (time2 - time1).seconds)\n",
    "        print('recognition time:', (time3 - time2).seconds)\n",
    "        break\n",
    "        #print(task['isFinished'])\n",
    "    else:\n",
    "        pass\n",
    "    \n",
    "def operation_from_collection():\n",
    "    tasks_collection = db['tasks']\n",
    "\n",
    "    for task in tasks_collection.find():\n",
    "        # if 'task' do not have a packUrl?, not a pdf?\n",
    "        if task['packFormat'] == 'pdf':\n",
    "        #and task['isFinished'] == False:\n",
    "           # print(datetime.datetime.now().strftime('%Y-%m-%d %H:%M:%S'))\n",
    "            time1 = datetime.datetime.now()\n",
    "            download_url = task['packUrl']\n",
    "            print('processing:', download_url)\n",
    "            # download\n",
    "            special_dir = download_from_task(task, dir_input)\n",
    "            time2 = datetime.datetime.now()\n",
    "            # segmentation\n",
    "            special_dir = segmentation_pdf(special_dir, dir_seg)\n",
    "            # recognition\n",
    "            final_result = recognition_img(special_dir, dir_rec)\n",
    "            time3 = datetime.datetime.now()\n",
    "            # insert\n",
    "            insert_result(final_result, task, db.results)\n",
    "            # update\n",
    "            task_is_finished(task['Id'], collection='tasks', state = True)\n",
    "            \n",
    "            print('download time:', (time2 - time1).seconds)\n",
    "            print('recognition time:', (time3 - time2).seconds)\n",
    "            break\n",
    "            #print(task['isFinished'])\n",
    "        else:\n",
    "            pass\n",
    "            \n",
    "            \n",
    "#operation_from_collection()\n",
    "operation_id('tasks', 111111)"
   ]
  },
  {
   "cell_type": "code",
   "execution_count": 30,
   "id": "cb47ba7d",
   "metadata": {},
   "outputs": [
    {
     "data": {
      "text/plain": [
       "<pymongo.results.InsertOneResult at 0x7f7da1b0bac8>"
      ]
     },
     "execution_count": 30,
     "metadata": {},
     "output_type": "execute_result"
    }
   ],
   "source": [
    "addone = {\n",
    "    'Id':123456789,\n",
    "    'packFormat':'pdf',\n",
    "    'packUrl':'http://gateway.ntdjk.com/blade-resource/oss/endpoint/file-view-link?attachId=1419848206056615938',\n",
    "    'productName':'投保',\n",
    "    'isFinished': False\n",
    "}\n",
    "db.tasks.insert_one(addone)"
   ]
  }
 ],
 "metadata": {
  "kernelspec": {
   "display_name": "Python 3",
   "language": "python",
   "name": "python3"
  },
  "language_info": {
   "codemirror_mode": {
    "name": "ipython",
    "version": 3
   },
   "file_extension": ".py",
   "mimetype": "text/x-python",
   "name": "python",
   "nbconvert_exporter": "python",
   "pygments_lexer": "ipython3",
   "version": "3.6.13"
  }
 },
 "nbformat": 4,
 "nbformat_minor": 5
}
